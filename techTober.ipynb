{
    "cells": [
        {
            "cell_type": "markdown",
            "metadata": {
                "collapsed": true
            },
            "source": "# My Jupyter Notebook on IBM Watson Studio"
        },
        {
            "cell_type": "markdown",
            "metadata": {},
            "source": "**Abir Hasan Shawon**, Software Engineer"
        },
        {
            "cell_type": "markdown",
            "metadata": {},
            "source": "_I am interested in data science because it's fun to poke around with data_"
        },
        {
            "cell_type": "markdown",
            "metadata": {},
            "source": "### The following code compares values in two vaiables. Then prints out if _'X'_ is greater or less than the other, or they are equal."
        },
        {
            "cell_type": "code",
            "execution_count": 5,
            "metadata": {},
            "outputs": [
                {
                    "name": "stdout",
                    "output_type": "stream",
                    "text": "x and y are equal\n"
                }
            ],
            "source": "x = 10\ny = 10\n\nif x > y:\n    print(\"x is greater than y\")\nelif x < y:\n    print(\"x is less than y\")\nelse:\n    print(\"x and y are equal\")"
        },
        {
            "cell_type": "markdown",
            "metadata": {},
            "source": "[Here is a link to search engine Google](https://www.google.com)"
        },
        {
            "cell_type": "markdown",
            "metadata": {},
            "source": "#### Load Image \n![alt text](https://freeiconshop.com/wp-content/uploads/edd/link-closed-flat.png \"Hovered\")"
        },
        {
            "cell_type": "markdown",
            "metadata": {},
            "source": "#### Bullet List\n* **1**\n* **2**\n* **3**\n* **4**\n* **5**\n"
        },
        {
            "cell_type": "markdown",
            "metadata": {},
            "source": "#### Numbered List\n1. **One**\n2. **Two**\n3. **Three**\n4. **Four**\n5. **Five**\n"
        }
    ],
    "metadata": {
        "kernelspec": {
            "display_name": "Python 3.7",
            "language": "python",
            "name": "python3"
        },
        "language_info": {
            "codemirror_mode": {
                "name": "ipython",
                "version": 3
            },
            "file_extension": ".py",
            "mimetype": "text/x-python",
            "name": "python",
            "nbconvert_exporter": "python",
            "pygments_lexer": "ipython3",
            "version": "3.7.9"
        }
    },
    "nbformat": 4,
    "nbformat_minor": 1
}